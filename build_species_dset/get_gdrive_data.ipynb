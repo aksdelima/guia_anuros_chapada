{
 "cells": [
  {
   "cell_type": "code",
   "execution_count": 1,
   "metadata": {},
   "outputs": [],
   "source": [
    "from __future__ import print_function\n",
    "\n",
    "from apiclient.discovery import build\n",
    "from apiclient.http import MediaIoBaseDownload\n",
    "from httplib2 import Http\n",
    "from oauth2client import file, client, tools\n",
    "import io"
   ]
  },
  {
   "cell_type": "code",
   "execution_count": 2,
   "metadata": {},
   "outputs": [],
   "source": [
    "store = file.Storage('token.json')\n",
    "creds = store.get()"
   ]
  },
  {
   "cell_type": "code",
   "execution_count": 3,
   "metadata": {},
   "outputs": [],
   "source": [
    "service = build(serviceName='drive', version='v3', http=creds.authorize(Http()))"
   ]
  },
  {
   "cell_type": "code",
   "execution_count": 4,
   "metadata": {},
   "outputs": [],
   "source": [
    "project_id = service.files().list( q=\"name contains 'Guia Anuro' \" ).execute().get('files')[0].get('id')\n",
    "project_root_items = service.files().list( q=f\"'{project_id}' in parents\").execute()"
   ]
  },
  {
   "cell_type": "markdown",
   "metadata": {},
   "source": [
    "## Get species data table"
   ]
  },
  {
   "cell_type": "code",
   "execution_count": 5,
   "metadata": {},
   "outputs": [],
   "source": [
    "species_table = list(filter( lambda x: 'tabela_especies' in x.get('name'), project_root_items.get('files') ))[0]"
   ]
  },
  {
   "cell_type": "code",
   "execution_count": 6,
   "metadata": {},
   "outputs": [
    {
     "data": {
      "text/plain": [
       "{'kind': 'drive#file',\n",
       " 'id': '1acpcDJI3bOSo9BiEwV2gOwBXgfeoV7Hygj-LY0dVuEk',\n",
       " 'name': 'tabela_especies.xlsx',\n",
       " 'mimeType': 'application/vnd.google-apps.spreadsheet'}"
      ]
     },
     "execution_count": 6,
     "metadata": {},
     "output_type": "execute_result"
    }
   ],
   "source": [
    "species_table"
   ]
  },
  {
   "cell_type": "code",
   "execution_count": 7,
   "metadata": {},
   "outputs": [],
   "source": [
    "file_content = service.files().export_media( fileId=species_table.get('id'), mimeType='text/csv').execute()"
   ]
  },
  {
   "cell_type": "code",
   "execution_count": 8,
   "metadata": {},
   "outputs": [],
   "source": [
    "fname = 'speciesdata.csv'\n",
    "\n",
    "with open (fname, 'wb') as f:\n",
    "    f.write(file_content)"
   ]
  },
  {
   "cell_type": "markdown",
   "metadata": {},
   "source": [
    "## Get species and families articles"
   ]
  },
  {
   "cell_type": "code",
   "execution_count": 9,
   "metadata": {},
   "outputs": [],
   "source": [
    "articlesFolderId = list(filter( lambda x: x.get('name')=='Artigos', project_root_items.get('files')))[0].get('id')"
   ]
  },
  {
   "cell_type": "code",
   "execution_count": 10,
   "metadata": {},
   "outputs": [],
   "source": [
    "def getFamiliesFoldersIds():\n",
    "    results = service.files().list( q=f\"'{articlesFolderId}' in parents and mimeType contains 'vnd.google-apps.folder'\",\n",
    "                                  fields='files(id,name)').execute().get('files')\n",
    "    return  { r['name']: r['id'] for r in results }\n",
    "\n",
    "def getFamilyDocuments( family, families_folders_ids ):\n",
    "    family_folder_id = families_folders_ids.get(family)\n",
    "    results = service.files().list( \n",
    "        q=f\"'{family_folder_id}' in parents and mimeType contains 'document'\",\n",
    "        fields='files(id,name)').execute().get('files')\n",
    "    return results"
   ]
  },
  {
   "cell_type": "code",
   "execution_count": 11,
   "metadata": {},
   "outputs": [],
   "source": [
    "families_folders_ids = getFamiliesFoldersIds()"
   ]
  },
  {
   "cell_type": "code",
   "execution_count": 12,
   "metadata": {},
   "outputs": [],
   "source": [
    "ids_to_download = [ f.get('id') for f in getFamilyDocuments( 'leptodactylidae', families_folders_ids ) ]"
   ]
  },
  {
   "cell_type": "code",
   "execution_count": 13,
   "metadata": {},
   "outputs": [],
   "source": [
    "family_folders_ids = getFamiliesFoldersIds()"
   ]
  },
  {
   "cell_type": "code",
   "execution_count": 14,
   "metadata": {},
   "outputs": [],
   "source": [
    "data = { family: [doc for doc in getFamilyDocuments(family, family_folders_ids)] for family, family_id in family_folders_ids.items()}"
   ]
  },
  {
   "cell_type": "code",
   "execution_count": 15,
   "metadata": {},
   "outputs": [],
   "source": [
    "# Update species pages\n",
    "basepath = '../especies/'\n",
    "\n",
    "for family in data:\n",
    "    for doc in [ doc for doc in data[family] if doc['name']!='familia' ]:\n",
    "        docid = doc['id']\n",
    "        species = doc['name']\n",
    "        \n",
    "        request = service.files().export_media(fileId=docid, mimeType='text/plain')\n",
    "        with open(basepath+f'{species}.md', 'wb') as f:\n",
    "            f.write(request.execute())"
   ]
  },
  {
   "cell_type": "code",
   "execution_count": 16,
   "metadata": {},
   "outputs": [],
   "source": [
    "basepath = '../familias/'\n",
    "for family in data:\n",
    "    for doc in [doc for doc in data[family] if doc['name']=='familia']:\n",
    "        docid=doc['id']\n",
    "        \n",
    "        request = service.files().export_media(fileId=docid, mimeType='text/plain')\n",
    "        with open(basepath+f'{family}.md', 'wb') as f:\n",
    "            f.write(request.execute())"
   ]
  }
 ],
 "metadata": {
  "kernelspec": {
   "display_name": "Python 3",
   "language": "python",
   "name": "python3"
  },
  "language_info": {
   "codemirror_mode": {
    "name": "ipython",
    "version": 3
   },
   "file_extension": ".py",
   "mimetype": "text/x-python",
   "name": "python",
   "nbconvert_exporter": "python",
   "pygments_lexer": "ipython3",
   "version": "3.6.5"
  }
 },
 "nbformat": 4,
 "nbformat_minor": 2
}
