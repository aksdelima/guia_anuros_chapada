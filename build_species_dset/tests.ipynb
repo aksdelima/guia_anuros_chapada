{
 "cells": [
  {
   "cell_type": "code",
   "execution_count": 1,
   "metadata": {},
   "outputs": [],
   "source": [
    "import requests, json\n",
    "from bs4 import BeautifulSoup\n",
    "from urllib.parse import urlencode\n"
   ]
  },
  {
   "cell_type": "code",
   "execution_count": 2,
   "metadata": {},
   "outputs": [],
   "source": [
    "amphibiaweb_url = 'https://amphibiaweb.org/'"
   ]
  },
  {
   "cell_type": "code",
   "execution_count": 3,
   "metadata": {},
   "outputs": [],
   "source": [
    "def getSpeciesData(spname, siteurl):\n",
    "    search_baseurl = 'cgi/amphib_query?'\n",
    "    d = { 'where-scientific_name':spname }\n",
    "    url = siteurl+search_baseurl+urlencode(d)\n",
    "    return requests.get(url)"
   ]
  },
  {
   "cell_type": "code",
   "execution_count": 4,
   "metadata": {},
   "outputs": [],
   "source": [
    "def getSpeciesIUCN(httpresp):\n",
    "    bs = BeautifulSoup(httpresp.text)\n",
    "    return bs.find('table', {'class':'listing'}).findNext('td').findNext('td').get('class')[0]"
   ]
  },
  {
   "cell_type": "code",
   "execution_count": 6,
   "metadata": {},
   "outputs": [],
   "source": [
    "with open('../_data/species.json', 'r') as f:\n",
    "    splist = [ i['scientificName'] for i in json.load(f) ]"
   ]
  },
  {
   "cell_type": "code",
   "execution_count": 55,
   "metadata": {},
   "outputs": [],
   "source": [
    "def parseSpeciesNames(splist, siteurl):\n",
    "    res = {'ok':[], 'failed':[]}\n",
    "    for sp in splist:        \n",
    "        try: \n",
    "            bs = BeautifulSoup(getSpeciesData(sp, siteurl).text)\n",
    "            nameFound = bs.find('div',{'id':'main'}).find('font').text\n",
    "            if nameFound == sp:\n",
    "                res['ok'].append(sp)\n",
    "        except Exception as e: \n",
    "            res['failed'].append(sp)\n",
    "        \n",
    "    return res"
   ]
  },
  {
   "cell_type": "code",
   "execution_count": 58,
   "metadata": {},
   "outputs": [],
   "source": [
    "j = parseSpeciesNames(splist, amphibiaweb_url)"
   ]
  },
  {
   "cell_type": "code",
   "execution_count": 60,
   "metadata": {},
   "outputs": [
    {
     "data": {
      "text/plain": [
       "['Boana albopunctatus',\n",
       " 'Boana goianus',\n",
       " 'Boana sp.',\n",
       " 'Pithecopus hypochondrialis',\n",
       " 'Pithecopus oreades',\n",
       " 'Scinax aff. squalirostris',\n",
       " 'Scinax rupestris',\n",
       " 'Leptodatcylus syphax',\n",
       " 'Leptodactylus cf. cunicularius',\n",
       " 'Pysalaemus cuvieri',\n",
       " 'Elachistocleis sp.']"
      ]
     },
     "execution_count": 60,
     "metadata": {},
     "output_type": "execute_result"
    }
   ],
   "source": [
    "j['failed']"
   ]
  },
  {
   "cell_type": "code",
   "execution_count": 53,
   "metadata": {},
   "outputs": [],
   "source": [
    "j = []\n",
    "for sp in splist:\n",
    "    j += [parseSpeciesNames(sp, amphibiaweb_url)]"
   ]
  },
  {
   "cell_type": "code",
   "execution_count": 54,
   "metadata": {},
   "outputs": [
    {
     "data": {
      "text/plain": [
       "[{'ok': ['Allobates goianus'], 'failed': []},\n",
       " {'ok': ['Rhaebo guttatus'], 'failed': []},\n",
       " {'ok': ['Rhinella mirandaribeiroi'], 'failed': []},\n",
       " {'ok': ['Rhinella rubescens'], 'failed': []},\n",
       " {'ok': ['Rhinella schneideri'], 'failed': []},\n",
       " {'ok': ['Barycholos ternetzi'], 'failed': []},\n",
       " {'ok': ['Ameerega flavopicta'], 'failed': []},\n",
       " {'ok': ['Aplastodiscus lutzorum'], 'failed': []},\n",
       " {'ok': ['Bokermannohyla pseudopseudis'], 'failed': []},\n",
       " {'ok': ['Dendropsophus jimi'], 'failed': []},\n",
       " {'ok': ['Dendropsophus minutus'], 'failed': []},\n",
       " {'ok': ['Dendropsophus rubicundulus'], 'failed': []},\n",
       " {'ok': [], 'failed': ['Boana albopunctatus']},\n",
       " {'ok': ['Boana ericae'], 'failed': []},\n",
       " {'ok': [], 'failed': ['Boana goianus']},\n",
       " {'ok': ['Boana lundii'], 'failed': []},\n",
       " {'ok': ['Boana phaeopleura'], 'failed': []},\n",
       " {'ok': ['Boana raniceps'], 'failed': []},\n",
       " {'ok': [], 'failed': ['Boana sp.']},\n",
       " {'ok': [], 'failed': ['Pithecopus hypochondrialis']},\n",
       " {'ok': [], 'failed': ['Pithecopus oreades']},\n",
       " {'ok': [], 'failed': ['Scinax aff. squalirostris']},\n",
       " {'ok': ['Scinax fuscomarginatus'], 'failed': []},\n",
       " {'ok': ['Scinax fuscovarius'], 'failed': []},\n",
       " {'ok': ['Scinax rogerioi'], 'failed': []},\n",
       " {'ok': ['Scinax similis'], 'failed': []},\n",
       " {'ok': ['Scinax skaios'], 'failed': []},\n",
       " {'ok': ['Scinax tigrinus'], 'failed': []},\n",
       " {'ok': [], 'failed': ['Scinax rupestris']},\n",
       " {'ok': ['Trachycephalus typhonius'], 'failed': []},\n",
       " {'ok': ['Adenomera cotuba'], 'failed': []},\n",
       " {'ok': ['Adenomera juikitam'], 'failed': []},\n",
       " {'ok': ['Adenomera saci'], 'failed': []},\n",
       " {'ok': ['Leptodactylus furnarius'], 'failed': []},\n",
       " {'ok': ['Leptodactylus fuscus'], 'failed': []},\n",
       " {'ok': ['Leptodactylus labyrinthicus'], 'failed': []},\n",
       " {'ok': ['Leptodactylus mystaceus'], 'failed': []},\n",
       " {'ok': ['Leptodactylus mystacinus'], 'failed': []},\n",
       " {'ok': ['Leptodactylus sertanejo'], 'failed': []},\n",
       " {'ok': [], 'failed': ['Leptodatcylus syphax']},\n",
       " {'ok': ['Leptodactylus tapiti'], 'failed': []},\n",
       " {'ok': ['Leptodactylus latrans'], 'failed': []},\n",
       " {'ok': [], 'failed': ['Leptodactylus cf. cunicularius']},\n",
       " {'ok': ['Physalaemus centralis'], 'failed': []},\n",
       " {'ok': [], 'failed': ['Pysalaemus cuvieri']},\n",
       " {'ok': ['Pseudopaludicola mystacalis'], 'failed': []},\n",
       " {'ok': ['Pseudopaludicola saltica'], 'failed': []},\n",
       " {'ok': ['Pseudopaludicola ternetzi'], 'failed': []},\n",
       " {'ok': ['Elachistocleis cesarii'], 'failed': []},\n",
       " {'ok': [], 'failed': ['Elachistocleis sp.']},\n",
       " {'ok': ['Odontophrynus cultripes'], 'failed': []},\n",
       " {'ok': ['Odontophrynus salvatori'], 'failed': []},\n",
       " {'ok': ['Proceratophrys goyana'], 'failed': []},\n",
       " {'ok': ['Proceratophrys rotundipalpebra'], 'failed': []}]"
      ]
     },
     "execution_count": 54,
     "metadata": {},
     "output_type": "execute_result"
    }
   ],
   "source": [
    "j"
   ]
  },
  {
   "cell_type": "code",
   "execution_count": 7,
   "metadata": {},
   "outputs": [
    {
     "name": "stdout",
     "output_type": "stream",
     "text": [
      "Allobates goianus at category DD\n",
      "Rhaebo guttatus at category LC\n",
      "Rhinella mirandaribeiroi at category \n",
      "Rhinella rubescens at category LC\n",
      "Rhinella schneideri at category LC\n",
      "Barycholos ternetzi at category LC\n",
      "Ameerega flavopicta at category LC\n",
      "Aplastodiscus lutzorum at category \n",
      "Bokermannohyla pseudopseudis at category LC\n",
      "Dendropsophus jimi at category LC\n",
      "Dendropsophus minutus at category LC\n",
      "Dendropsophus rubicundulus at category LC\n",
      "Could not find name: Boana albopunctatus\n",
      "Boana ericae at category DD\n",
      "Could not find name: Boana goianus\n",
      "Boana lundii at category LC\n",
      "Boana phaeopleura at category DD\n",
      "Boana raniceps at category LC\n",
      "Could not find name: Boana sp.\n",
      "Could not find name: Pithecopus hypochondrialis\n",
      "Could not find name: Pithecopus oreades\n",
      "Could not find name: Scinax aff. squalirostris\n",
      "Scinax fuscomarginatus at category LC\n",
      "Scinax fuscovarius at category LC\n",
      "Scinax rogerioi at category \n",
      "Scinax similis at category LC\n",
      "Scinax skaios at category \n",
      "Scinax tigrinus at category LC\n",
      "Could not find name: Scinax rupestris\n",
      "Trachycephalus typhonius at category LC\n",
      "Adenomera cotuba at category \n",
      "Adenomera juikitam at category \n",
      "Adenomera saci at category \n",
      "Leptodactylus furnarius at category LC\n",
      "Leptodactylus fuscus at category LC\n",
      "Leptodactylus labyrinthicus at category LC\n",
      "Leptodactylus mystaceus at category LC\n",
      "Leptodactylus mystacinus at category LC\n",
      "Leptodactylus sertanejo at category LC\n",
      "Could not find name: Leptodatcylus syphax\n",
      "Leptodactylus tapiti at category DD\n",
      "Leptodactylus latrans at category LC\n",
      "Could not find name: Leptodactylus cf. cunicularius\n",
      "Physalaemus centralis at category LC\n",
      "Could not find name: Pysalaemus cuvieri\n",
      "Pseudopaludicola mystacalis at category LC\n",
      "Pseudopaludicola saltica at category LC\n",
      "Pseudopaludicola ternetzi at category LC\n",
      "Elachistocleis cesarii at category \n",
      "Could not find name: Elachistocleis sp.\n",
      "Odontophrynus cultripes at category LC\n",
      "Odontophrynus salvatori at category DD\n",
      "Proceratophrys goyana at category LC\n",
      "Proceratophrys rotundipalpebra at category \n"
     ]
    }
   ],
   "source": [
    "l = []\n",
    "for sp in splist:\n",
    "    try:\n",
    "        resp = getSpeciesData(sp, amphibiaweb_url)\n",
    "        iucn_cat = getSpeciesIUCN(resp)\n",
    "        l += [ (sp,iucn_cat) ]\n",
    "        print(f\"{sp} at category {iucn_cat}\")\n",
    "    except:\n",
    "        print(f\"Could not find name: {sp}\")\n",
    "        l += [ (sp, None) ]"
   ]
  },
  {
   "cell_type": "code",
   "execution_count": 10,
   "metadata": {},
   "outputs": [
    {
     "data": {
      "text/plain": [
       "[('Allobates goianus', 'DD'),\n",
       " ('Rhaebo guttatus', 'LC'),\n",
       " ('Rhinella mirandaribeiroi', ''),\n",
       " ('Rhinella rubescens', 'LC'),\n",
       " ('Rhinella schneideri', 'LC'),\n",
       " ('Barycholos ternetzi', 'LC'),\n",
       " ('Ameerega flavopicta', 'LC'),\n",
       " ('Aplastodiscus lutzorum', ''),\n",
       " ('Bokermannohyla pseudopseudis', 'LC'),\n",
       " ('Dendropsophus jimi', 'LC'),\n",
       " ('Dendropsophus minutus', 'LC'),\n",
       " ('Dendropsophus rubicundulus', 'LC'),\n",
       " ('Boana albopunctatus', None),\n",
       " ('Boana ericae', 'DD'),\n",
       " ('Boana goianus', None),\n",
       " ('Boana lundii', 'LC'),\n",
       " ('Boana phaeopleura', 'DD'),\n",
       " ('Boana raniceps', 'LC'),\n",
       " ('Boana sp.', None),\n",
       " ('Pithecopus hypochondrialis', None),\n",
       " ('Pithecopus oreades', None),\n",
       " ('Scinax aff. squalirostris', None),\n",
       " ('Scinax fuscomarginatus', 'LC'),\n",
       " ('Scinax fuscovarius', 'LC'),\n",
       " ('Scinax rogerioi', ''),\n",
       " ('Scinax similis', 'LC'),\n",
       " ('Scinax skaios', ''),\n",
       " ('Scinax tigrinus', 'LC'),\n",
       " ('Scinax rupestris', None),\n",
       " ('Trachycephalus typhonius', 'LC'),\n",
       " ('Adenomera cotuba', ''),\n",
       " ('Adenomera juikitam', ''),\n",
       " ('Adenomera saci', ''),\n",
       " ('Leptodactylus furnarius', 'LC'),\n",
       " ('Leptodactylus fuscus', 'LC'),\n",
       " ('Leptodactylus labyrinthicus', 'LC'),\n",
       " ('Leptodactylus mystaceus', 'LC'),\n",
       " ('Leptodactylus mystacinus', 'LC'),\n",
       " ('Leptodactylus sertanejo', 'LC'),\n",
       " ('Leptodatcylus syphax', None),\n",
       " ('Leptodactylus tapiti', 'DD'),\n",
       " ('Leptodactylus latrans', 'LC'),\n",
       " ('Leptodactylus cf. cunicularius', None),\n",
       " ('Physalaemus centralis', 'LC'),\n",
       " ('Pysalaemus cuvieri', None),\n",
       " ('Pseudopaludicola mystacalis', 'LC'),\n",
       " ('Pseudopaludicola saltica', 'LC'),\n",
       " ('Pseudopaludicola ternetzi', 'LC'),\n",
       " ('Elachistocleis cesarii', ''),\n",
       " ('Elachistocleis sp.', None),\n",
       " ('Odontophrynus cultripes', 'LC'),\n",
       " ('Odontophrynus salvatori', 'DD'),\n",
       " ('Proceratophrys goyana', 'LC'),\n",
       " ('Proceratophrys rotundipalpebra', '')]"
      ]
     },
     "execution_count": 10,
     "metadata": {},
     "output_type": "execute_result"
    }
   ],
   "source": [
    "l"
   ]
  },
  {
   "cell_type": "code",
   "execution_count": 11,
   "metadata": {},
   "outputs": [
    {
     "data": {
      "text/plain": [
       "['Boana albopunctatus',\n",
       " 'Boana goianus',\n",
       " 'Pithecopus hypochondrialis',\n",
       " 'Pithecopus oreades',\n",
       " 'Scinax rupestris',\n",
       " 'Leptodatcylus syphax',\n",
       " 'Pysalaemus cuvieri']"
      ]
     },
     "execution_count": 11,
     "metadata": {},
     "output_type": "execute_result"
    }
   ],
   "source": [
    "[ i[0] for i in l if i[1] is None and '.' not in i[0] ]"
   ]
  },
  {
   "cell_type": "code",
   "execution_count": null,
   "metadata": {},
   "outputs": [],
   "source": []
  },
  {
   "cell_type": "code",
   "execution_count": null,
   "metadata": {},
   "outputs": [],
   "source": []
  },
  {
   "cell_type": "markdown",
   "metadata": {},
   "source": [
    "## Get text from wix"
   ]
  },
  {
   "cell_type": "code",
   "execution_count": 95,
   "metadata": {},
   "outputs": [],
   "source": [
    "url = 'https://www.lafuc.com/rhinella-rubescens'\n",
    "\n",
    "bs = BeautifulSoup(requests.get(url).text)"
   ]
  },
  {
   "cell_type": "code",
   "execution_count": 25,
   "metadata": {},
   "outputs": [
    {
     "ename": "SyntaxError",
     "evalue": "unexpected EOF while parsing (<ipython-input-25-7fa49a152a07>, line 2)",
     "output_type": "error",
     "traceback": [
      "\u001b[0;36m  File \u001b[0;32m\"<ipython-input-25-7fa49a152a07>\"\u001b[0;36m, line \u001b[0;32m2\u001b[0m\n\u001b[0;31m    ([ i.text for i in container.findAll('p') ]\u001b[0m\n\u001b[0m                                               ^\u001b[0m\n\u001b[0;31mSyntaxError\u001b[0m\u001b[0;31m:\u001b[0m unexpected EOF while parsing\n"
     ]
    }
   ],
   "source": [
    "container = bs.find('div', {'id': 'PAGES_CONTAINER'})\n",
    "\n",
    "([ i.text for i in container.findAll('p') ]"
   ]
  },
  {
   "cell_type": "markdown",
   "metadata": {},
   "source": [
    "## Glossary"
   ]
  },
  {
   "cell_type": "markdown",
   "metadata": {},
   "source": [
    "#### Create the glossary "
   ]
  },
  {
   "cell_type": "code",
   "execution_count": 222,
   "metadata": {},
   "outputs": [],
   "source": [
    "import re\n",
    "from unidecode import unidecode"
   ]
  },
  {
   "cell_type": "code",
   "execution_count": 224,
   "metadata": {},
   "outputs": [],
   "source": [
    "preprocess_terms = lambda x: re.sub('\\s+','-', unidecode(x.strip())).lower()"
   ]
  },
  {
   "cell_type": "code",
   "execution_count": 223,
   "metadata": {},
   "outputs": [],
   "source": [
    "with open('glossario.txt') as f:\n",
    "    text = ''.join( l for l in f.readlines() if l!='\\n')\n",
    "    terms_defins = re.findall('([\\w\\s]+):(.+[^\\n])', text)"
   ]
  },
  {
   "cell_type": "code",
   "execution_count": 229,
   "metadata": {},
   "outputs": [],
   "source": [
    "glossary = { preprocess_terms(term): defin.strip() for term,defin in terms_defins }"
   ]
  },
  {
   "cell_type": "code",
   "execution_count": 230,
   "metadata": {},
   "outputs": [
    {
     "data": {
      "text/plain": [
       "{'poleiro': 'Local onde o animal fica e canta. Pode ser no chão, em um galho, na árvore, entre outros locais.',\n",
       " 'matas-de-galeria': 'É um tipo de fitofisionomia do Bioma Cerrado, é um ambiente de formação florestal, cercado por um ambiente savânico.',\n",
       " 'defesa-passiva': 'Tipo de defesa que só é ativada quando estimulada mecanicamente/manualmente.',\n",
       " 'regiao-loreal': 'É o “rostinho” do anuro, é a região delimitada pelos olhos, boca e focinho, sempre lateral.',\n",
       " 'glandula-parotida': 'Glândula de veneno que fica no dorso, atrás da cabeça.',\n",
       " 'glandula-tibial': 'Glândula de veneno presente na perna, na tíbia.',\n",
       " 'endemico': 'Esse termo é usado quando uma espécie só ocorre naquele local.',\n",
       " 'dissecacao': 'Evitar que os ovos percam água e desidratam.',\n",
       " 'ovoide': 'Corpo em formato de ovo.',\n",
       " 'aposematico': 'Cor de advertência, chamativa, que avisa algum perigo.',\n",
       " 'epiteto-especifico': 'É a segunda palavra dada quando se escreve o nome da espécie, geralmente é uma palavra referente à uma característica do animal.',\n",
       " 'perene': 'Um lugar com água que nunca seca.',\n",
       " 'verrucoso': 'Corpo coberto de verrugas.',\n",
       " 'fossoreo': 'Um animal fossorial é aquele que está adaptado a cavar e a viver debaixo do solo.',\n",
       " 'tipo': 'Local geográfico onde o espécime foi encontrado pela primeira vez.'}"
      ]
     },
     "execution_count": 230,
     "metadata": {},
     "output_type": "execute_result"
    }
   ],
   "source": [
    "glossary"
   ]
  },
  {
   "cell_type": "markdown",
   "metadata": {},
   "source": [
    "#### Open the file to make the substitutions"
   ]
  },
  {
   "cell_type": "code",
   "execution_count": 387,
   "metadata": {},
   "outputs": [],
   "source": [
    "mytext= 'ada lana <glossario ovoide >Ovóidile</glossario> tentar'\n",
    "t = mytext"
   ]
  },
  {
   "cell_type": "code",
   "execution_count": 338,
   "metadata": {},
   "outputs": [
    {
     "data": {
      "text/plain": [
       "' ovoide'"
      ]
     },
     "execution_count": 338,
     "metadata": {},
     "output_type": "execute_result"
    }
   ],
   "source": [
    "m = re.search('<glossario(?P<term0>[\\w\\s\\-_]+)?>(?P<term>.+)</glossario>',t)\n",
    "m.group('term0')"
   ]
  },
  {
   "cell_type": "code",
   "execution_count": 298,
   "metadata": {},
   "outputs": [],
   "source": [
    "with open('../especies/odontophrynus-salvatori.md') as f:\n",
    "    text = ''.join(f.readlines())"
   ]
  },
  {
   "cell_type": "code",
   "execution_count": 404,
   "metadata": {},
   "outputs": [],
   "source": [
    "with open('../especies/ameerega-flavopicta.md') as f:\n",
    "    text = ''.join(f.readlines())"
   ]
  },
  {
   "cell_type": "code",
   "execution_count": 405,
   "metadata": {},
   "outputs": [],
   "source": [
    "def substituteDefinition( text, glossary ):\n",
    "    matches = [ match for match in re.finditer('<glossario(?P<term0>[\\w\\s\\-_]+)?>(?P<term>[\\w\\s\\-]+)</glossario>',text) ]\n",
    "    \n",
    "    for m in matches:\n",
    "        matchstr = m.group()\n",
    "        term = m.group('term')\n",
    "\n",
    "        term_key = m.group('term0')\n",
    "        term_key = preprocess_terms(term_key) if term_key is not None else ''\n",
    "        if term_key=='':\n",
    "            term_key = preprocess_terms(term)\n",
    "        dfn = glossary.get(term_key,'')\n",
    "        substitute =f'''<dfn title=\"{dfn}\">{term}</dfn>'''\n",
    "        text = re.sub(matchstr,substitute, text)   \n",
    "    \n",
    "    return text"
   ]
  },
  {
   "cell_type": "code",
   "execution_count": 406,
   "metadata": {},
   "outputs": [],
   "source": [
    "with open('../especies/ameerega-flavopicta.md','w') as f:\n",
    "    #f.writelines(text)\n",
    "    f.writelines(substituteDefinition(text,glossary))"
   ]
  },
  {
   "cell_type": "code",
   "execution_count": 395,
   "metadata": {},
   "outputs": [
    {
     "data": {
      "text/plain": [
       "'\\ufeff*Ameerega flavopicta* é um anuro que chama muita atenção! Sua coloração chamativa, denominada de coloração <dfn title=\"\">aposemática</dfn>, avisa aos predadores potenciais (especialmente aves e mamíferos) que existem toxinas na pele desse simpático sapinho. O sapo obtêm essas toxinas através da dieta, composta basicamente por formigas e ácaros. Na época reprodutiva, os machos vocalizam durante o dia, em meio à pedras e à vegetação que margeiam riachos. Seu canto lembra assobios curtos e repetitivos, parecendo um grilo. O seu <dfn title=\"É a segunda palavra dada quando se escreve o nome da espécie, geralmente é uma palavra referente à uma característica do animal.\">epíteto específico</dfn> (*flavopicta*) significa pontos amarelos, uma característica da espécie em vida.\\n\\n\\n# Diagnose:\\nCorpo preto com um par de listra amarela que vai desde a ponta do nariz, passa acima dos olhos e vai até a coxa, terminando com uma cor alaranjada. Possui pontos amarelos no dorso e nas pernas e seu ventre é branco com pontos pretos.\\n\\n\\n# Curiosidades:\\nPossuem um comportamento reprodutivo bem curioso, onde os ovos são depositados no solo, dentro de tocas ou fendas úmidas e, logo que os girinos eclodem, os machos os carregam nas costas, até um curso d’água <dfn title=\"Um lugar com água que nunca seca.\">perene</dfn>, como um riacho. E por causa disso, essa espécie pode não conseguir se adaptar às severas modificações no ambiente.\\n\\n\\n# Referências bibliográficas:\\nLima NG, Eterovick PC. Natural History of Ameerega flavopicta (Dendrobatidae) on an Island Formed by Três Marias Hydroelectric Reservoir in Southeastern Brazil. Journal of Herpetology. 2013 Sep;47(3):480-8.\\nMartins LB, Giaretta AA. Ameerega flavopicta (Lutz, 1925): first dart-poison frog (Anura: Dendrobatidae) recorded for the state of São Paulo, Brazil, with commetns on its adertisement calls and taxonomy. Check List. 2012 Jun 1;8(3):502-4.\\nMagrini L, Gomes Facure K, Antonio Giaretta A, Rodrigues da Silva W, Caldeira Costa R. Geographic call variation and further notes on habitat of Ameerega flavopicta (Anura, Dendrobatidae). Studies on Neotropical Fauna and Environment. 2010 Jul 23;45(2):89-94.\\nCosta RC, Facure KG, Giaretta AA. Courtship, vocalization, and tadpole description of Epipedobates flavopictus (Anura: Dendrobatidae) in southern Goiás, Brazil. Biota Neotropica. 2006;6(1):0-.\\nVaz-Silva W, Maciel NM. A new cryptic species of Ameerega (Anura: Dendrobatidae) from Brazilian Cerrado. Zootaxa. 2011 Apr 20;2826(1):57-68.'"
      ]
     },
     "execution_count": 395,
     "metadata": {},
     "output_type": "execute_result"
    }
   ],
   "source": [
    "substituteDefinition(text,glossary)"
   ]
  }
 ],
 "metadata": {
  "kernelspec": {
   "display_name": "Python 3",
   "language": "python",
   "name": "python3"
  },
  "language_info": {
   "codemirror_mode": {
    "name": "ipython",
    "version": 3
   },
   "file_extension": ".py",
   "mimetype": "text/x-python",
   "name": "python",
   "nbconvert_exporter": "python",
   "pygments_lexer": "ipython3",
   "version": "3.6.5"
  }
 },
 "nbformat": 4,
 "nbformat_minor": 2
}
