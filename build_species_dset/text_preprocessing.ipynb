{
 "cells": [
  {
   "cell_type": "code",
   "execution_count": 170,
   "metadata": {},
   "outputs": [],
   "source": [
    "import re\n",
    "from collections import namedtuple"
   ]
  },
  {
   "cell_type": "code",
   "execution_count": 191,
   "metadata": {},
   "outputs": [],
   "source": [
    "import markdown"
   ]
  },
  {
   "cell_type": "code",
   "execution_count": 20,
   "metadata": {},
   "outputs": [],
   "source": [
    "text_dir = './tmp/especies'"
   ]
  },
  {
   "cell_type": "code",
   "execution_count": 21,
   "metadata": {},
   "outputs": [],
   "source": [
    "text_file = text_dir + '/ameerega-flavopicta.md'"
   ]
  },
  {
   "cell_type": "markdown",
   "metadata": {},
   "source": [
    "# Species profile text"
   ]
  },
  {
   "cell_type": "code",
   "execution_count": 197,
   "metadata": {},
   "outputs": [
    {
     "data": {
      "text/plain": [
       "'\\ufeffUma espécie de pequeno porte porém robusto, de corpo oval e <glossario>verrucoso</glossario>, parecendo um pequeno fusquinha. São animais de hábitos diurnos e noturnos, <glossario>fossoriais</glossario> e insetívoros. Pode ser encontrado em áreas abertas do bioma Cerrado em altitudes de 1200 metros, próximos à riachos de leito rochoso margeados por gramíneas e arbustos. \\nMachos vocalizam debaixo de folhas, pedras e, às vezes, expostos. A distribuição geográfica da espécie é restrita às formações abertas dos biomas Cerrado e da Caatinga, tendo sido registrada no Distrito Federal em Matas de Galeria. Dentre as principais ameaças à espécie estão a expansão das fronteiras agropecuárias e a exploração madeireira.\\nEsta espécie foi a primeira a ser descrita para a região centro-oeste e é conhecida para o estado do Goiás, Distrito Federal e Minas Gerais. Em Minas Gerais já foi encontrada no município de Uberlândia. No Goiás, existem registros para várias localidades, incluindo: Alto Paraíso de Goiás (<glossario>localidade-tipo</glossario>), Niquelândia, Minaçu, Pirenópolis, Matrinchã, Cana Brava, Cavalcante, Colinas do Sul, Catalão e Silvânia.\\n#### Diagnose\\nPode ser caracterizado pelo aspecto ovóide do corpo, focinho atarracado, porte robusto e corpo verrucoso, alguns indivíduos podem apresentar uma pele a mais por cima dos olhos, o que lembra chifres. *P. goyana* pertence ao grupo cristiceps, que é caracterizado tanto pela ausência de apêndices palpebrais quanto de glândulas pós-oculares e distribuição geográfica restrita às formações abertas do biomas Cerrado e Caatinga. Possui um par de cristas dorsais longitudinais, simétricas e contínuas, iniciado na porção medial da pálpebra até o cóccix e cristas oculares dorsais descontínuas na porção central. A coloração dorsal de fundo é, no geral, marrom clara com a crista dorsal margeada externamente por um padrão de ondulações de cor marrom-escuro.\\n<div class=\"col-lg-6\">\\n<div class=\"jumbotron\">\\n<h1 class=\"display-4\">Você sabia?</h1>\\n <hr class=\"my-4\">\\n <p><p>Na época do Brasil colônia, em que a capital do Brasil era o Rio de Janeiro, mal se conhecia o interior do país. Um médico que trabalhava com animais para descobrir medicamento, entre outros remédios naturais, fez uma viagem até a Chapada dos Veadeiros, um local, até então, quase desconhecido. Lá, ele encontrou o primeiro <em>Proceratophrys goyana</em>, em uma estrada que hoje é conhecida por “estrada velha” e que faz parte do território da [Fazenda Volta da Serra](https://www.google.com.br/maps/place/Fazenda</p></p>\\n</div>\\n</div>\\n#### Referências\\n* Martins, L. B., and A. A. Giaretta. 2013. Morphological and acoustic characterization of Proceratophrys goyana (Lissamphibia: Anura: Odontophrynidae), with the description of a sympatric and related new species . Zootaxa 3750: 301–320. \\n\\n\\n* Martins LB, Giaretta AA. História Natural de uma espécie de Proceratophrys (Anura, Alsodinae) do bioma Cerrado. VII Encontro Interno e XII Seminário de Iniciação Científica da Universidade Federal de Uberlândia. 2008;2008:1-0.\\n\\n\\n* Brandão, R. A. and Araújo, A. F. B., 2001, “A Herpetofauna Associada às Matas de Galeria no Distrito Federal”. In: Ribeiro, J. F., Fonseca, C. E. L. and Sousa-Silva, J. C. (Eds), Caracterização e Recuperação de Matas de Galeria, Planaltina: Embrapa, pp. 561–604.'"
      ]
     },
     "execution_count": 197,
     "metadata": {},
     "output_type": "execute_result"
    }
   ],
   "source": [
    "def getSpeciesProfileStructure(txt):\n",
    "    main_desc = re.findall('^([^#+]*)',txt,flags=re.DOTALL)[0].strip()\n",
    "    named_sections = [ (n.strip(),d.strip()) for n,d in re.findall('#+([\\w\\s]{1,30})\\n([^#+]*)',txt,flags=re.DOTALL)]\n",
    "    structured_text = namedtuple('ProfileText',['main_desc','named_sections'])\n",
    "    return structured_text(main_desc,named_sections)\n",
    "    return namedtuple('ProfileText', ['main_desc','named_sections'],main_desc,named_sections)\n",
    "\n",
    "def profileText_to_markdown(profile_txt_str):\n",
    "    \n",
    "    tomarkdown = lambda txt: markdown.markdown(txt)\n",
    "    \n",
    "    resText = ''\n",
    "    resText += profile_txt_str.main_desc\n",
    "    \n",
    "    for name,content in profile_txt_str.named_sections:\n",
    "        if name.lower()=='curiosidades':\n",
    "            resText += f'''\n",
    "<div class=\"col-lg-6\">\n",
    "<div class=\"jumbotron\">\n",
    "<h1 class=\"display-4\">Você sabia?</h1>\n",
    " <hr class=\"my-4\">\n",
    " <p>{tomarkdown(content)}</p>\n",
    "</div>\n",
    "</div>'''\n",
    "        \n",
    "        else:\n",
    "            resText += f'\\n#### {name}\\n{content}'\n",
    "    return resText\n",
    "    \n",
    "\n",
    "profileText_to_markdown(getSpeciesProfileStructure(txt))"
   ]
  },
  {
   "cell_type": "code",
   "execution_count": 201,
   "metadata": {},
   "outputs": [],
   "source": [
    "species_slug = 'proceratophrys-goyana'\n",
    "text_file = f'../especies/{species_slug}.md'\n",
    "\n",
    "with open(text_file) as f:\n",
    "    txt = f.read()\n",
    "    profile_data = getSpeciesProfileStructure(txt)\n",
    "\n",
    "with open(f'../especies/{species_slug}-1.md','w') as f:\n",
    "    f.write(profileText_to_markdown(profile_data))"
   ]
  },
  {
   "cell_type": "code",
   "execution_count": 200,
   "metadata": {},
   "outputs": [
    {
     "data": {
      "text/plain": [
       "'Na época do Brasil colônia, em que a capital do Brasil era o Rio de Janeiro, mal se conhecia o interior do país. Um médico que trabalhava com animais para descobrir medicamento, entre outros remédios naturais, fez uma viagem até a Chapada dos Veadeiros, um local, até então, quase desconhecido. Lá, ele encontrou o primeiro *Proceratophrys goyana*, em uma estrada que hoje é conhecida por “estrada velha” e que faz parte do território da [Fazenda Volta da Serra](https://www.google.com.br/maps/place/Fazenda'"
      ]
     },
     "execution_count": 200,
     "metadata": {},
     "output_type": "execute_result"
    }
   ],
   "source": [
    "profile_data[1][1][1]"
   ]
  },
  {
   "cell_type": "code",
   "execution_count": 199,
   "metadata": {},
   "outputs": [
    {
     "data": {
      "text/plain": [
       "'<p>Na época do Brasil colônia, em que a capital do Brasil era o Rio de Janeiro, mal se conhecia o interior do país. Um médico que trabalhava com animais para descobrir medicamento, entre outros remédios naturais, fez uma viagem até a Chapada dos Veadeiros, um local, até então, quase desconhecido. Lá, ele encontrou o primeiro <em>Proceratophrys goyana</em>, em uma estrada que hoje é conhecida por “estrada velha” e que faz parte do território da [Fazenda Volta da Serra](https://www.google.com.br/maps/place/Fazenda</p>'"
      ]
     },
     "execution_count": 199,
     "metadata": {},
     "output_type": "execute_result"
    }
   ],
   "source": [
    "markdown.markdown(profile_data[1][1][1])"
   ]
  }
 ],
 "metadata": {
  "kernelspec": {
   "display_name": "Python 3",
   "language": "python",
   "name": "python3"
  },
  "language_info": {
   "codemirror_mode": {
    "name": "ipython",
    "version": 3
   },
   "file_extension": ".py",
   "mimetype": "text/x-python",
   "name": "python",
   "nbconvert_exporter": "python",
   "pygments_lexer": "ipython3",
   "version": "3.6.5"
  }
 },
 "nbformat": 4,
 "nbformat_minor": 2
}
