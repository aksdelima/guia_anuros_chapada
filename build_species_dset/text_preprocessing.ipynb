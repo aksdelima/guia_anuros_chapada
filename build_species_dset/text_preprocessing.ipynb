{
 "cells": [
  {
   "cell_type": "code",
   "execution_count": 133,
   "metadata": {},
   "outputs": [],
   "source": [
    "import re\n",
    "import os\n",
    "from collections import namedtuple"
   ]
  },
  {
   "cell_type": "code",
   "execution_count": 2,
   "metadata": {},
   "outputs": [],
   "source": [
    "import markdown"
   ]
  },
  {
   "cell_type": "code",
   "execution_count": 3,
   "metadata": {},
   "outputs": [],
   "source": [
    "text_dir = './tmp/especies'"
   ]
  },
  {
   "cell_type": "code",
   "execution_count": 4,
   "metadata": {},
   "outputs": [],
   "source": [
    "text_file = text_dir + '/ameerega-flavopicta.md'"
   ]
  },
  {
   "cell_type": "markdown",
   "metadata": {},
   "source": [
    "# Get text for each species profile"
   ]
  },
  {
   "cell_type": "markdown",
   "metadata": {},
   "source": [
    "### Google Drive"
   ]
  },
  {
   "cell_type": "code",
   "execution_count": 5,
   "metadata": {},
   "outputs": [],
   "source": [
    "from pydrive.auth import GoogleAuth\n",
    "from pydrive.drive import GoogleDrive\n",
    "from pydrive.auth import ServiceAccountCredentials"
   ]
  },
  {
   "cell_type": "code",
   "execution_count": 6,
   "metadata": {},
   "outputs": [],
   "source": [
    "credentialsFile = './credentials.json'\n",
    "scope = ['https://www.googleapis.com/auth/drive']"
   ]
  },
  {
   "cell_type": "code",
   "execution_count": 7,
   "metadata": {},
   "outputs": [],
   "source": [
    "gauth = GoogleAuth()\n",
    "gauth.credentials = ServiceAccountCredentials.from_json_keyfile_name(credentialsFile,scope)"
   ]
  },
  {
   "cell_type": "code",
   "execution_count": 8,
   "metadata": {},
   "outputs": [],
   "source": [
    "drive = GoogleDrive(gauth)"
   ]
  },
  {
   "cell_type": "code",
   "execution_count": 92,
   "metadata": {},
   "outputs": [],
   "source": [
    "PROJECT_ID = '0B0M5IL0AEOXidHZmTjZzMHlLLWc'\n",
    "PROFILES_ROOT_ID = drive.ListFile({'q': f\"title contains 'Perfil' and '{PROJECT_ID}' in parents\"}).GetList()[0]['id']"
   ]
  },
  {
   "cell_type": "code",
   "execution_count": 130,
   "metadata": {},
   "outputs": [],
   "source": [
    "def getFamiliesFoldersIds():\n",
    "    return {  f['title']:f['id'] \n",
    "              for f in drive.ListFile({'q': f\"'{PROFILES_ROOT_ID}' in parents\"}).GetList()\n",
    "              if re.match('^[a-zA-Z]*ae$',f['title'])  }\n",
    "\n",
    "\n",
    "def getFamilyDocuments(family, family_folder_id):\n",
    "    return drive.ListFile({'q':f\"'{family_folder_id}' in parents and mimeType contains 'document'\"}).GetList() \n"
   ]
  },
  {
   "cell_type": "code",
   "execution_count": 151,
   "metadata": {},
   "outputs": [],
   "source": [
    "# Fetches all documents for each family\n",
    "\n",
    "def fetchProfilesDocuments():\n",
    "    \n",
    "    os.makedirs('./tmp/especies')\n",
    "    os.makedirs('./tmp/familias')\n",
    "    for family,folder_id in getFamiliesFoldersIds().items():\n",
    "        print(f\"Fetching documents for family {family}\")\n",
    "        for document in getFamilyDocuments(family,folder_id):\n",
    "            print(f\"\\tFetching document: {document['title']}\")\n",
    "            if document['title']=='familia':\n",
    "                document.GetContentFile(f\"./tmp/familias/{family.lower()}.md\", mimetype=\"text/plain\")\n",
    "            else:\n",
    "                document.GetContentFile(f\"./tmp/especies/{document['title']}.md\", mimetype=\"text/plain\")"
   ]
  },
  {
   "cell_type": "code",
   "execution_count": 152,
   "metadata": {},
   "outputs": [
    {
     "name": "stdout",
     "output_type": "stream",
     "text": [
      "Fetching documents for family odontophrynidae\n",
      "\tFetching document: familia\n",
      "\tFetching document: proceratophrys-rotundipalpebra\n",
      "\tFetching document: odontophrynus-salvatori\n",
      "\tFetching document: odontophrynus-cultripes\n",
      "\tFetching document: proceratophrys-goyana\n",
      "Fetching documents for family microhylidae\n",
      "\tFetching document: familia\n",
      "\tFetching document: elachistocleis-cesarii\n",
      "Fetching documents for family leptodactylidae\n",
      "\tFetching document: leptodactylus-latrans\n",
      "\tFetching document: leptodactylus-fuscus\n",
      "\tFetching document: leptodactylus-furnarius\n",
      "\tFetching document: leptodactylus-mystacinus\n",
      "\tFetching document: leptodactylus-mystaceus\n",
      "\tFetching document: familia\n",
      "\tFetching document: pseudopaludicola-giarettai\n",
      "\tFetching document: physalaemus-marmoratus\n",
      "\tFetching document: leptodactylus-podicipinus\n",
      "\tFetching document: leptodactylus-chaquensis\n",
      "\tFetching document: adenomera-juikitam\n",
      "\tFetching document: adenomera-cotuba\n",
      "\tFetching document: pseudopaludicola-ternetzi\n",
      "\tFetching document: pseudopaludicola-saltica\n",
      "\tFetching document: pseudopaludicola-mystacalis\n",
      "\tFetching document: physalaemus-centralis\n",
      "\tFetching document: leptodactylus-tapiti\n",
      "\tFetching document: leptodactylus-syphax\n",
      "\tFetching document: leptodactylus-sertanejo\n",
      "\tFetching document: leptodactylus-labyrinthicus\n",
      "\tFetching document: adenomera-saci\n",
      "\tFetching document: physalaemus-cuvieri\n",
      "Fetching documents for family hylidae\n",
      "\tFetching document: familia\n",
      "\tFetching document: boana-crepitans\n",
      "\tFetching document: dendropsophus-nanus\n",
      "\tFetching document: scinax-squalirostris\n",
      "\tFetching document: aplastodiscus-lutzorum\n",
      "\tFetching document: scinax-similis\n",
      "\tFetching document: trachycephalus-typhonius\n",
      "\tFetching document: scinax-tigrinus\n",
      "\tFetching document: scinax-skaios\n",
      "\tFetching document: scinax-rogerioi\n",
      "\tFetching document: scinax-fuscovarius\n",
      "\tFetching document: scinax-fuscomarginatus\n",
      "\tFetching document: pithecopus-oreades\n",
      "\tFetching document: pithecopus-hypochondrialis\n",
      "\tFetching document: dendropsophus-rubicundulus\n",
      "\tFetching document: dendropsophus-minutus\n",
      "\tFetching document: dendropsophus-jimi\n",
      "\tFetching document: bokermannohyla-pseudopseudis\n",
      "\tFetching document: boana-raniceps\n",
      "\tFetching document: boana-phaeopleura\n",
      "\tFetching document: boana-lundii\n",
      "\tFetching document: boana-goiana\n",
      "\tFetching document: boana-ericae\n",
      "\tFetching document: scinax-rupestris\n",
      "\tFetching document: boana-albopunctata\n",
      "Fetching documents for family dendrobatidae\n",
      "\tFetching document: familia\n",
      "\tFetching document: ameerega-flavopicta\n",
      "Fetching documents for family craugastoridae\n",
      "\tFetching document: familia\n",
      "\tFetching document: barycholos-ternetzi\n",
      "Fetching documents for family bufonidae\n",
      "\tFetching document: familia\n",
      "\tFetching document: rhinella-diptycha\n",
      "\tFetching document: rhinella-ocellata\n",
      "\tFetching document: rhinella-rubescens\n",
      "\tFetching document: rhinella-mirandaribeiroi\n",
      "\tFetching document: rhaebo-guttatus\n",
      "Fetching documents for family aromobatidae\n",
      "\tFetching document: familia\n",
      "\tFetching document: allobates-goianus\n"
     ]
    }
   ],
   "source": [
    "fetchProfilesDocuments()"
   ]
  },
  {
   "cell_type": "markdown",
   "metadata": {},
   "source": [
    "# Species profile text"
   ]
  },
  {
   "cell_type": "code",
   "execution_count": 261,
   "metadata": {},
   "outputs": [],
   "source": [
    "def getSpeciesProfileStructure(txt):\n",
    "    main_desc = re.findall('^([^#]*)',txt,flags=re.DOTALL)[0].strip()\n",
    "    named_sections = [ (n.strip(),d.strip()) for n,d in re.findall('#+([\\w\\s]{1,30})\\n([^#]+)',txt,flags=re.DOTALL)]\n",
    "    structured_text = namedtuple('ProfileText',['main_desc','named_sections'])\n",
    "    return structured_text(main_desc,named_sections)\n",
    "    return namedtuple('ProfileText', ['main_desc','named_sections'],main_desc,named_sections)\n",
    "\n",
    "def profileText_to_markdown(profile_txt_str):\n",
    "    \n",
    "    resText = ''\n",
    "    resText += profile_txt_str.main_desc\n",
    "    \n",
    "    for name,content in profile_txt_str.named_sections:\n",
    "        if name.lower()=='curiosidades':\n",
    "            resText += f'''\n",
    "<div class=\"col-lg-12\">\n",
    "  <div class=\"jumbotron\">\n",
    "    <h1 class=\"display-4\">Você sabia?</h1>\n",
    "    <hr class=\"my-4\">\n",
    "    <p>{markdown.markdown(content)}</p>\n",
    "  </div>\n",
    "</div>\n",
    "'''\n",
    "        \n",
    "        else:\n",
    "            resText += f'\\n#### {name}\\n{content}'\n",
    "            \n",
    "    return resText"
   ]
  },
  {
   "cell_type": "code",
   "execution_count": 153,
   "metadata": {},
   "outputs": [],
   "source": [
    "import glob"
   ]
  },
  {
   "cell_type": "code",
   "execution_count": 262,
   "metadata": {},
   "outputs": [],
   "source": [
    "for spfilePath in glob.glob('./tmp/especies/*'):\n",
    "    species_slug = re.findall('([\\w-]*).md$',spfilePath)[0]\n",
    "    \n",
    "    with open(spfilePath) as f:\n",
    "        txt = f.read()\n",
    "        profile_data = getSpeciesProfileStructure(txt)\n",
    "\n",
    "    with open(f'../especies/{species_slug}.md','w') as f:\n",
    "        f.write(profileText_to_markdown(profile_data))\n",
    "    \n"
   ]
  },
  {
   "cell_type": "code",
   "execution_count": 242,
   "metadata": {},
   "outputs": [],
   "source": [
    "species_slug = 'bokermannohyla-pseudopseudis'\n",
    "text_file = f'../especies/{species_slug}.md'\n",
    "\n",
    "with open(text_file) as f:\n",
    "    txt = f.read()\n",
    "    profile_data = getSpeciesProfileStructure(txt)\n",
    "\n",
    "with open(f'../especies/{species_slug}-1.md','w') as f:\n",
    "    f.write(profileText_to_markdown(profile_data))"
   ]
  }
 ],
 "metadata": {
  "kernelspec": {
   "display_name": "Python 3",
   "language": "python",
   "name": "python3"
  },
  "language_info": {
   "codemirror_mode": {
    "name": "ipython",
    "version": 3
   },
   "file_extension": ".py",
   "mimetype": "text/x-python",
   "name": "python",
   "nbconvert_exporter": "python",
   "pygments_lexer": "ipython3",
   "version": "3.6.5"
  }
 },
 "nbformat": 4,
 "nbformat_minor": 2
}
