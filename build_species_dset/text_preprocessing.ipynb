{
 "cells": [
  {
   "cell_type": "code",
   "execution_count": 1,
   "metadata": {},
   "outputs": [],
   "source": [
    "import re\n"
   ]
  },
  {
   "cell_type": "code",
   "execution_count": 2,
   "metadata": {},
   "outputs": [],
   "source": [
    "text_dir = './tmp/species_profiles'"
   ]
  },
  {
   "cell_type": "code",
   "execution_count": 3,
   "metadata": {},
   "outputs": [],
   "source": [
    "text_file = text_dir + '/boana-albopunctata.md'"
   ]
  },
  {
   "cell_type": "markdown",
   "metadata": {},
   "source": [
    "# Species profile text"
   ]
  },
  {
   "cell_type": "code",
   "execution_count": 230,
   "metadata": {},
   "outputs": [],
   "source": [
    "def splitSections(text):\n",
    "    '''Splits on #+ '''\n",
    "    sections = re.split('#+',txt)\n",
    "    return [ (name,content) if len(name)<18 else name+'\\n'+content for name,content in [ section.strip().split('\\n',1) for section in sections ]]\n",
    "\n",
    "def structureProfileArticle(text):\n",
    "    sections = splitSections(text)\n",
    "    \n",
    "    struct_text = dict()\n",
    "    struct_text['general'] = ''.join( s for s in sections if isinstance(s,str) )\n",
    "    for sect in sections:\n",
    "        if isinstance(sect,str):\n",
    "            struct_text['general'] = sect\n",
    "        else:\n",
    "            struct_text[sect[0].lower()] = struct_text.get(sect[0].lower(),[]) + [sect[1]]\n",
    "            \n",
    "    return struct_text"
   ]
  },
  {
   "cell_type": "code",
   "execution_count": 237,
   "metadata": {},
   "outputs": [],
   "source": [
    "restext = structureProfileArticle(txt)"
   ]
  },
  {
   "cell_type": "code",
   "execution_count": 239,
   "metadata": {},
   "outputs": [
    {
     "data": {
      "text/plain": [
       "['Essa espécie possui uma maior tolerância à áreas antropizadas, e tem uma grande tolerância a ambientes modificados, sendo um animal bem comum também em cidades, quando o mesmo apresenta algum corpo d’água.\\nA espécie possui forte dimorfismo sexual no tamanho e forma do corpo, com as fêmeas sendo mais largas que os machos devido ao ventre onde guardará os ovos.',\n",
       " 'Essa espécie foi recentemente testada positivamente para o fungo *Batrachochytrium dendrobatidis*, por se reproduzirem em ambientes abertos e em águas lênticas. Esse fungo causa uma doença que leva à morte os indivíduos infectados, causando um declínio na população dos anuros.']"
      ]
     },
     "execution_count": 239,
     "metadata": {},
     "output_type": "execute_result"
    }
   ],
   "source": [
    "restext['curiosidades']"
   ]
  },
  {
   "cell_type": "code",
   "execution_count": 272,
   "metadata": {},
   "outputs": [],
   "source": [
    "def to_markdown(structured_txt):\n",
    "    resText = ''\n",
    "    resText += structured_txt['general']\n",
    "    \n",
    "    resText += '\\n<div class=\"row\">'\n",
    "    for curiosity in structured_txt['curiosidades']:\n",
    "        resText += f'''\n",
    "<div class=\"col-lg-6\">\n",
    "<div class=\"jumbotron\">\n",
    "<h1 class=\"display-4\">Você sabia?</h1>\n",
    " <hr class=\"my-4\">\n",
    " <p>{curiosity}</p>\n",
    "</div>\n",
    "</div>'''\n",
    "    resText += '</div>\\n'\n",
    "    if structured_txt.get('diagnose'):\n",
    "        resText += '#### Diagnose\\n'\n",
    "        resText += structured_txt['diagnose'][0]\n",
    "    \n",
    "    return resText"
   ]
  },
  {
   "cell_type": "code",
   "execution_count": 273,
   "metadata": {},
   "outputs": [
    {
     "data": {
      "text/plain": [
       "'\\ufeffÉ uma espécie de perereca de médio-grande porte, noturna e arborícola. Essa perereca possui uma coloração bem diferente em algumas partes de seu corpo. Na parte lateral do corpo ela tem umas bolinhas amarelo-ouro que chega até a parte interna de suas coxas que se mistura com uma coloração avermelhada e que só é possível ver quando o animal estica as pernas quando anda. Essa espécie é abundante na América do Sul, especialmente em regiões de vegetação aberta onde tem herbáceas e arbustos que margeiam corpos d’água.\\nSão animais generalistas, consumindo Coleoptera, Aranae e Orthoptera e o tamanho do alimento se dá de acordo com o tamanho da cabeça. Elas também são generalistas na reprodução (possuem reprodução contínua) e podem ser encontradas em todos os meses do ano, sendo que em alguns meses em (setembro a março) são encontrados em maior quantidade devido ao período da chuva.\\n<div class=\"row\">\\n<div class=\"col-lg-6\">\\n<div class=\"jumbotron\">\\n<h1 class=\"display-4\">Você sabia?</h1>\\n <hr class=\"my-4\">\\n <p>Essa espécie possui uma maior tolerância à áreas antropizadas, e tem uma grande tolerância a ambientes modificados, sendo um animal bem comum também em cidades, quando o mesmo apresenta algum corpo d’água.\\nA espécie possui forte dimorfismo sexual no tamanho e forma do corpo, com as fêmeas sendo mais largas que os machos devido ao ventre onde guardará os ovos.</p>\\n</div>\\n</div>\\n<div class=\"col-lg-6\">\\n<div class=\"jumbotron\">\\n<h1 class=\"display-4\">Você sabia?</h1>\\n <hr class=\"my-4\">\\n <p>Essa espécie foi recentemente testada positivamente para o fungo *Batrachochytrium dendrobatidis*, por se reproduzirem em ambientes abertos e em águas lênticas. Esse fungo causa uma doença que leva à morte os indivíduos infectados, causando um declínio na população dos anuros.</p>\\n</div>\\n</div></div>\\n#### Diagnose\\nSua coloração dorsal varia do bege ao marrom com manchas escuras transversais. Faixa marrom-escura que se estende da narina até o tímpano. Mandíbula com faixa branca-amarelada e saco vocal pequeno. Não possui membranas interdigitais nas mãos e os discos adesivos das mãos são evidentes. Possui pintas amarelas-ouro na lateral de seu corpo que se estendem até os <glossario>flancos</glossario> e na parte interna das coxas também tem uma coloração amarela-avermelhada.'"
      ]
     },
     "execution_count": 273,
     "metadata": {},
     "output_type": "execute_result"
    }
   ],
   "source": [
    "to_markdown(restext)"
   ]
  },
  {
   "cell_type": "code",
   "execution_count": 274,
   "metadata": {},
   "outputs": [],
   "source": [
    "with open('./text.md','w') as f:\n",
    "    f.write(to_markdown(structureProfileArticle(txt)))"
   ]
  }
 ],
 "metadata": {
  "kernelspec": {
   "display_name": "Python 3",
   "language": "python",
   "name": "python3"
  },
  "language_info": {
   "codemirror_mode": {
    "name": "ipython",
    "version": 3
   },
   "file_extension": ".py",
   "mimetype": "text/x-python",
   "name": "python",
   "nbconvert_exporter": "python",
   "pygments_lexer": "ipython3",
   "version": "3.6.5"
  }
 },
 "nbformat": 4,
 "nbformat_minor": 2
}
